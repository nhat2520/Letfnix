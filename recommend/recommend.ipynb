{
 "cells": [
  {
   "cell_type": "code",
   "execution_count": 1,
   "metadata": {},
   "outputs": [],
   "source": [
    "%matplotlib inline\n",
    "import matplotlib.pyplot as plt\n",
    "import seaborn as sns\n",
    "import pandas as pd\n",
    "import numpy as np\n",
    "import ast \n",
    "from scipy import stats\n",
    "from ast import literal_eval\n",
    "from sklearn.feature_extraction.text import TfidfVectorizer, CountVectorizer\n",
    "from sklearn.metrics.pairwise import linear_kernel, cosine_similarity\n",
    "from nltk.stem.snowball import SnowballStemmer\n",
    "from nltk.stem.wordnet import WordNetLemmatizer\n",
    "from nltk.corpus import wordnet\n",
    "\n",
    "import warnings; warnings.simplefilter('ignore')"
   ]
  },
  {
   "cell_type": "code",
   "execution_count": 2,
   "metadata": {},
   "outputs": [],
   "source": [
    "data = pd.read_csv('data.csv')"
   ]
  },
  {
   "cell_type": "code",
   "execution_count": 7,
   "metadata": {},
   "outputs": [
    {
     "name": "stdout",
     "output_type": "stream",
     "text": [
      "<class 'pandas.core.frame.DataFrame'>\n",
      "RangeIndex: 1518 entries, 0 to 1517\n",
      "Data columns (total 27 columns):\n",
      " #   Column                 Non-Null Count  Dtype  \n",
      "---  ------                 --------------  -----  \n",
      " 0   adult                  1518 non-null   bool   \n",
      " 1   backdrop_path          1518 non-null   object \n",
      " 2   belongs_to_collection  1518 non-null   object \n",
      " 3   budget                 1518 non-null   int64  \n",
      " 4   genres                 1518 non-null   object \n",
      " 5   homepage               803 non-null    object \n",
      " 6   id                     1518 non-null   int64  \n",
      " 7   imdb_id                1518 non-null   object \n",
      " 8   origin_country         1518 non-null   object \n",
      " 9   original_language      1518 non-null   object \n",
      " 10  original_title         1518 non-null   object \n",
      " 11  overview               1518 non-null   object \n",
      " 12  popularity             1518 non-null   float64\n",
      " 13  poster_path            1518 non-null   object \n",
      " 14  production_companies   1518 non-null   object \n",
      " 15  production_countries   1518 non-null   object \n",
      " 16  release_date           1518 non-null   object \n",
      " 17  revenue                1518 non-null   float64\n",
      " 18  runtime                1518 non-null   float64\n",
      " 19  spoken_languages       1518 non-null   object \n",
      " 20  status                 1518 non-null   object \n",
      " 21  tagline                1518 non-null   object \n",
      " 22  title                  1518 non-null   object \n",
      " 23  video                  1518 non-null   bool   \n",
      " 24  vote_average           1518 non-null   float64\n",
      " 25  vote_count             1518 non-null   float64\n",
      " 26  url                    1518 non-null   object \n",
      "dtypes: bool(2), float64(5), int64(2), object(18)\n",
      "memory usage: 299.6+ KB\n",
      "None\n"
     ]
    }
   ],
   "source": [
    "print(data.info())"
   ]
  },
  {
   "cell_type": "markdown",
   "metadata": {},
   "source": [
    "###  Content based recommendation system : Using movie description and taglines"
   ]
  },
  {
   "cell_type": "code",
   "execution_count": 3,
   "metadata": {},
   "outputs": [],
   "source": [
    "data['tagline'] = data['tagline'].fillna('')\n",
    "data['description'] = data['overview'] + data['tagline']\n",
    "data['description'] = data['description'].fillna('')"
   ]
  },
  {
   "cell_type": "code",
   "execution_count": 4,
   "metadata": {},
   "outputs": [],
   "source": [
    "data.to_csv('data.csv',index = False)"
   ]
  },
  {
   "cell_type": "code",
   "execution_count": 24,
   "metadata": {},
   "outputs": [
    {
     "name": "stdout",
     "output_type": "stream",
     "text": [
      "Several generations in the future following Caesar's reign, apes are now the dominant species and live harmoniously while humans have been reduced to living in the shadows. As a new tyrannical ape leader builds his empire, one young ape undertakes a harrowing journey that will cause him to question all that he has known about the past and to make choices that will define a future for apes and humans alike.No one can stop the reign.\n"
     ]
    }
   ],
   "source": [
    "print(data['description'].loc[0])"
   ]
  },
  {
   "cell_type": "code",
   "execution_count": 11,
   "metadata": {},
   "outputs": [],
   "source": [
    "tf = TfidfVectorizer(analyzer='word',ngram_range=(1, 2),min_df=0.01, stop_words='english')\n",
    "tfidf_matrix = tf.fit_transform(data['description'])"
   ]
  },
  {
   "cell_type": "code",
   "execution_count": 15,
   "metadata": {},
   "outputs": [],
   "source": [
    "cosine_sim = linear_kernel(tfidf_matrix, tfidf_matrix)"
   ]
  },
  {
   "cell_type": "code",
   "execution_count": 38,
   "metadata": {},
   "outputs": [],
   "source": [
    "titles = data['original_title']\n",
    "indices = pd.Series(data.index, index=data['original_title'])"
   ]
  },
  {
   "cell_type": "markdown",
   "metadata": {},
   "source": [
    "### Content based RS : Using movie description, taglines, keywords, cast, director and genres"
   ]
  },
  {
   "cell_type": "markdown",
   "metadata": {},
   "source": [
    "#### create shorten ratings csv"
   ]
  },
  {
   "cell_type": "code",
   "execution_count": 25,
   "metadata": {},
   "outputs": [],
   "source": [
    "ratings = pd.read_csv('ratings.csv')"
   ]
  },
  {
   "cell_type": "code",
   "execution_count": 32,
   "metadata": {},
   "outputs": [],
   "source": [
    "ratings = ratings[0:len(ratings)//2]"
   ]
  },
  {
   "cell_type": "code",
   "execution_count": 24,
   "metadata": {},
   "outputs": [
    {
     "data": {
      "text/plain": [
       "Index(['userId', 'movieId', 'rating', 'timestamp'], dtype='object')"
      ]
     },
     "execution_count": 24,
     "metadata": {},
     "output_type": "execute_result"
    }
   ],
   "source": [
    "ratings.columns"
   ]
  },
  {
   "cell_type": "code",
   "execution_count": 33,
   "metadata": {},
   "outputs": [
    {
     "data": {
      "text/plain": [
       "390626"
      ]
     },
     "execution_count": 33,
     "metadata": {},
     "output_type": "execute_result"
    }
   ],
   "source": [
    "len(ratings)"
   ]
  },
  {
   "cell_type": "code",
   "execution_count": 34,
   "metadata": {},
   "outputs": [],
   "source": [
    "ratings[['userId','movieId','rating']].to_csv('shortened_ratings.csv',index = False)"
   ]
  },
  {
   "cell_type": "markdown",
   "metadata": {},
   "source": [
    "#### content based RS"
   ]
  },
  {
   "cell_type": "code",
   "execution_count": 40,
   "metadata": {},
   "outputs": [],
   "source": [
    "ratings = pd.read_csv('shortened_ratings.csv')"
   ]
  },
  {
   "cell_type": "code",
   "execution_count": 43,
   "metadata": {},
   "outputs": [],
   "source": [
    "def get_recommendations(title, length):\n",
    "    idx = indices[title]\n",
    "    sim_scores = list(enumerate(cosine_sim[idx]))\n",
    "    sim_scores = sorted(sim_scores, key=lambda x: x[1], reverse=True)\n",
    "    sim_scores = sim_scores[1:length+1]\n",
    "    movie_indices = [i[0] for i in sim_scores]\n",
    "    return titles.iloc[movie_indices]"
   ]
  },
  {
   "cell_type": "code",
   "execution_count": 44,
   "metadata": {},
   "outputs": [],
   "source": [
    "def weighted_rating(x):\n",
    "    v = x['vote_count']\n",
    "    R = x['vote_average']\n",
    "    return (v/(v+m) * R) + (m/(m+v) * C)"
   ]
  },
  {
   "cell_type": "code",
   "execution_count": 33,
   "metadata": {},
   "outputs": [],
   "source": [
    "# this is V\n",
    "vote_counts = data[data['vote_count'].notnull()]['vote_count'].astype('int')\n",
    "\n",
    "# this is R\n",
    "vote_averages = data[data['vote_average'].notnull()]['vote_average'].astype('int')\n",
    "\n",
    "# this is C\n",
    "C = vote_averages.mean()"
   ]
  },
  {
   "cell_type": "code",
   "execution_count": 51,
   "metadata": {},
   "outputs": [],
   "source": [
    "data['year'] = pd.to_datetime(data['release_date'])\n",
    "data['year']= data['year'].apply(\n",
    "    lambda x: str(x).split('-')[0] if x != np.nan else np.nan)"
   ]
  },
  {
   "cell_type": "code",
   "execution_count": 49,
   "metadata": {},
   "outputs": [
    {
     "data": {
      "text/html": [
       "<div>\n",
       "<style scoped>\n",
       "    .dataframe tbody tr th:only-of-type {\n",
       "        vertical-align: middle;\n",
       "    }\n",
       "\n",
       "    .dataframe tbody tr th {\n",
       "        vertical-align: top;\n",
       "    }\n",
       "\n",
       "    .dataframe thead th {\n",
       "        text-align: right;\n",
       "    }\n",
       "</style>\n",
       "<table border=\"1\" class=\"dataframe\">\n",
       "  <thead>\n",
       "    <tr style=\"text-align: right;\">\n",
       "      <th></th>\n",
       "      <th>release_date</th>\n",
       "      <th>release_date</th>\n",
       "    </tr>\n",
       "  </thead>\n",
       "  <tbody>\n",
       "    <tr>\n",
       "      <th>0</th>\n",
       "      <td>2024-05-08</td>\n",
       "      <td>2024-05-08</td>\n",
       "    </tr>\n",
       "    <tr>\n",
       "      <th>1</th>\n",
       "      <td>2024-03-20</td>\n",
       "      <td>2024-03-20</td>\n",
       "    </tr>\n",
       "    <tr>\n",
       "      <th>2</th>\n",
       "      <td>2024-03-27</td>\n",
       "      <td>2024-03-27</td>\n",
       "    </tr>\n",
       "    <tr>\n",
       "      <th>3</th>\n",
       "      <td>2024-02-27</td>\n",
       "      <td>2024-02-27</td>\n",
       "    </tr>\n",
       "    <tr>\n",
       "      <th>4</th>\n",
       "      <td>2014-07-08</td>\n",
       "      <td>2014-07-08</td>\n",
       "    </tr>\n",
       "    <tr>\n",
       "      <th>...</th>\n",
       "      <td>...</td>\n",
       "      <td>...</td>\n",
       "    </tr>\n",
       "    <tr>\n",
       "      <th>1513</th>\n",
       "      <td>2016-06-18</td>\n",
       "      <td>2016-06-18</td>\n",
       "    </tr>\n",
       "    <tr>\n",
       "      <th>1514</th>\n",
       "      <td>2011-06-28</td>\n",
       "      <td>2011-06-28</td>\n",
       "    </tr>\n",
       "    <tr>\n",
       "      <th>1515</th>\n",
       "      <td>1989-04-28</td>\n",
       "      <td>1989-04-28</td>\n",
       "    </tr>\n",
       "    <tr>\n",
       "      <th>1516</th>\n",
       "      <td>1985-08-01</td>\n",
       "      <td>1985-08-01</td>\n",
       "    </tr>\n",
       "    <tr>\n",
       "      <th>1517</th>\n",
       "      <td>2018-05-18</td>\n",
       "      <td>2018-05-18</td>\n",
       "    </tr>\n",
       "  </tbody>\n",
       "</table>\n",
       "<p>1518 rows × 2 columns</p>\n",
       "</div>"
      ],
      "text/plain": [
       "     release_date release_date\n",
       "0      2024-05-08   2024-05-08\n",
       "1      2024-03-20   2024-03-20\n",
       "2      2024-03-27   2024-03-27\n",
       "3      2024-02-27   2024-02-27\n",
       "4      2014-07-08   2014-07-08\n",
       "...           ...          ...\n",
       "1513   2016-06-18   2016-06-18\n",
       "1514   2011-06-28   2011-06-28\n",
       "1515   1989-04-28   1989-04-28\n",
       "1516   1985-08-01   1985-08-01\n",
       "1517   2018-05-18   2018-05-18\n",
       "\n",
       "[1518 rows x 2 columns]"
      ]
     },
     "execution_count": 49,
     "metadata": {},
     "output_type": "execute_result"
    }
   ],
   "source": [
    "data['release_date']"
   ]
  },
  {
   "cell_type": "code",
   "execution_count": 53,
   "metadata": {},
   "outputs": [],
   "source": [
    "m = vote_counts.quantile(0.95)"
   ]
  },
  {
   "cell_type": "code",
   "execution_count": 55,
   "metadata": {},
   "outputs": [],
   "source": [
    "qualified = data[(data['vote_count'] >= m) & \n",
    "               (data['vote_count'].notnull()) & \n",
    "               (data['vote_average'].notnull())][['original_title', \n",
    "                                                'release_date', \n",
    "                                                'vote_count', \n",
    "                                                'vote_average', \n",
    "                                                'popularity', \n",
    "                                                'genres']]\n",
    "\n",
    "qualified['vote_count'] = qualified['vote_count'].astype('int')\n",
    "qualified['vote_average'] = qualified['vote_average'].astype('int')"
   ]
  },
  {
   "cell_type": "code",
   "execution_count": 56,
   "metadata": {},
   "outputs": [],
   "source": [
    "qualified['wr'] = qualified.apply(weighted_rating, axis=1)"
   ]
  },
  {
   "cell_type": "code",
   "execution_count": 57,
   "metadata": {},
   "outputs": [],
   "source": [
    "qualified = qualified.sort_values('wr', ascending=False).head(250)"
   ]
  },
  {
   "cell_type": "code",
   "execution_count": 58,
   "metadata": {},
   "outputs": [
    {
     "data": {
      "text/html": [
       "<div>\n",
       "<style scoped>\n",
       "    .dataframe tbody tr th:only-of-type {\n",
       "        vertical-align: middle;\n",
       "    }\n",
       "\n",
       "    .dataframe tbody tr th {\n",
       "        vertical-align: top;\n",
       "    }\n",
       "\n",
       "    .dataframe thead th {\n",
       "        text-align: right;\n",
       "    }\n",
       "</style>\n",
       "<table border=\"1\" class=\"dataframe\">\n",
       "  <thead>\n",
       "    <tr style=\"text-align: right;\">\n",
       "      <th></th>\n",
       "      <th>original_title</th>\n",
       "      <th>release_date</th>\n",
       "      <th>vote_count</th>\n",
       "      <th>vote_average</th>\n",
       "      <th>popularity</th>\n",
       "      <th>genres</th>\n",
       "      <th>wr</th>\n",
       "    </tr>\n",
       "  </thead>\n",
       "  <tbody>\n",
       "    <tr>\n",
       "      <th>198</th>\n",
       "      <td>The Dark Knight</td>\n",
       "      <td>2008-07-16</td>\n",
       "      <td>31920</td>\n",
       "      <td>8</td>\n",
       "      <td>114.484</td>\n",
       "      <td>[{'id': 18, 'name': 'Drama'}, {'id': 28, 'name...</td>\n",
       "      <td>7.369470</td>\n",
       "    </tr>\n",
       "    <tr>\n",
       "      <th>34</th>\n",
       "      <td>Avengers: Infinity War</td>\n",
       "      <td>2018-04-25</td>\n",
       "      <td>28863</td>\n",
       "      <td>8</td>\n",
       "      <td>362.473</td>\n",
       "      <td>[{'id': 12, 'name': 'Adventure'}, {'id': 28, '...</td>\n",
       "      <td>7.326155</td>\n",
       "    </tr>\n",
       "    <tr>\n",
       "      <th>15</th>\n",
       "      <td>The Matrix</td>\n",
       "      <td>1999-03-31</td>\n",
       "      <td>24858</td>\n",
       "      <td>8</td>\n",
       "      <td>440.334</td>\n",
       "      <td>[{'id': 28, 'name': 'Action'}, {'id': 878, 'na...</td>\n",
       "      <td>7.259510</td>\n",
       "    </tr>\n",
       "    <tr>\n",
       "      <th>64</th>\n",
       "      <td>Avengers: Endgame</td>\n",
       "      <td>2019-04-24</td>\n",
       "      <td>24855</td>\n",
       "      <td>8</td>\n",
       "      <td>267.760</td>\n",
       "      <td>[{'id': 12, 'name': 'Adventure'}, {'id': 878, ...</td>\n",
       "      <td>7.259455</td>\n",
       "    </tr>\n",
       "    <tr>\n",
       "      <th>18</th>\n",
       "      <td>Joker</td>\n",
       "      <td>2019-10-01</td>\n",
       "      <td>24558</td>\n",
       "      <td>8</td>\n",
       "      <td>425.856</td>\n",
       "      <td>[{'id': 80, 'name': 'Crime'}, {'id': 53, 'name...</td>\n",
       "      <td>7.253983</td>\n",
       "    </tr>\n",
       "    <tr>\n",
       "      <th>166</th>\n",
       "      <td>The Lord of the Rings: The Fellowship of the Ring</td>\n",
       "      <td>2001-12-18</td>\n",
       "      <td>24323</td>\n",
       "      <td>8</td>\n",
       "      <td>164.708</td>\n",
       "      <td>[{'id': 12, 'name': 'Adventure'}, {'id': 14, '...</td>\n",
       "      <td>7.249596</td>\n",
       "    </tr>\n",
       "    <tr>\n",
       "      <th>205</th>\n",
       "      <td>The Lord of the Rings: The Return of the King</td>\n",
       "      <td>2003-12-01</td>\n",
       "      <td>23379</td>\n",
       "      <td>8</td>\n",
       "      <td>123.611</td>\n",
       "      <td>[{'id': 12, 'name': 'Adventure'}, {'id': 14, '...</td>\n",
       "      <td>7.231440</td>\n",
       "    </tr>\n",
       "    <tr>\n",
       "      <th>272</th>\n",
       "      <td>The Lord of the Rings: The Two Towers</td>\n",
       "      <td>2002-12-18</td>\n",
       "      <td>21139</td>\n",
       "      <td>8</td>\n",
       "      <td>115.753</td>\n",
       "      <td>[{'id': 12, 'name': 'Adventure'}, {'id': 14, '...</td>\n",
       "      <td>7.184627</td>\n",
       "    </tr>\n",
       "    <tr>\n",
       "      <th>178</th>\n",
       "      <td>Harry Potter and the Prisoner of Azkaban</td>\n",
       "      <td>2004-05-31</td>\n",
       "      <td>20892</td>\n",
       "      <td>8</td>\n",
       "      <td>135.962</td>\n",
       "      <td>[{'id': 12, 'name': 'Adventure'}, {'id': 14, '...</td>\n",
       "      <td>7.179114</td>\n",
       "    </tr>\n",
       "    <tr>\n",
       "      <th>20</th>\n",
       "      <td>Star Wars</td>\n",
       "      <td>1977-05-25</td>\n",
       "      <td>19981</td>\n",
       "      <td>8</td>\n",
       "      <td>541.884</td>\n",
       "      <td>[{'id': 12, 'name': 'Adventure'}, {'id': 28, '...</td>\n",
       "      <td>7.158118</td>\n",
       "    </tr>\n",
       "    <tr>\n",
       "      <th>180</th>\n",
       "      <td>Harry Potter and the Deathly Hallows: Part 2</td>\n",
       "      <td>2011-07-12</td>\n",
       "      <td>19960</td>\n",
       "      <td>8</td>\n",
       "      <td>135.770</td>\n",
       "      <td>[{'id': 14, 'name': 'Fantasy'}, {'id': 12, 'na...</td>\n",
       "      <td>7.157621</td>\n",
       "    </tr>\n",
       "    <tr>\n",
       "      <th>213</th>\n",
       "      <td>The Godfather</td>\n",
       "      <td>1972-03-14</td>\n",
       "      <td>19817</td>\n",
       "      <td>8</td>\n",
       "      <td>119.001</td>\n",
       "      <td>[{'id': 18, 'name': 'Drama'}, {'id': 80, 'name...</td>\n",
       "      <td>7.154224</td>\n",
       "    </tr>\n",
       "    <tr>\n",
       "      <th>248</th>\n",
       "      <td>Back to the Future</td>\n",
       "      <td>1985-07-03</td>\n",
       "      <td>19279</td>\n",
       "      <td>8</td>\n",
       "      <td>122.515</td>\n",
       "      <td>[{'id': 12, 'name': 'Adventure'}, {'id': 35, '...</td>\n",
       "      <td>7.141192</td>\n",
       "    </tr>\n",
       "    <tr>\n",
       "      <th>368</th>\n",
       "      <td>Gladiator</td>\n",
       "      <td>2000-05-04</td>\n",
       "      <td>17822</td>\n",
       "      <td>8</td>\n",
       "      <td>1.400</td>\n",
       "      <td>[{'id': 28, 'name': 'Action'}, {'id': 18, 'nam...</td>\n",
       "      <td>7.103794</td>\n",
       "    </tr>\n",
       "    <tr>\n",
       "      <th>171</th>\n",
       "      <td>The Lion King</td>\n",
       "      <td>1994-06-24</td>\n",
       "      <td>17679</td>\n",
       "      <td>8</td>\n",
       "      <td>131.557</td>\n",
       "      <td>[{'id': 10751, 'name': 'Family'}, {'id': 16, '...</td>\n",
       "      <td>7.099947</td>\n",
       "    </tr>\n",
       "  </tbody>\n",
       "</table>\n",
       "</div>"
      ],
      "text/plain": [
       "                                        original_title release_date  \\\n",
       "198                                    The Dark Knight   2008-07-16   \n",
       "34                              Avengers: Infinity War   2018-04-25   \n",
       "15                                          The Matrix   1999-03-31   \n",
       "64                                   Avengers: Endgame   2019-04-24   \n",
       "18                                               Joker   2019-10-01   \n",
       "166  The Lord of the Rings: The Fellowship of the Ring   2001-12-18   \n",
       "205      The Lord of the Rings: The Return of the King   2003-12-01   \n",
       "272              The Lord of the Rings: The Two Towers   2002-12-18   \n",
       "178           Harry Potter and the Prisoner of Azkaban   2004-05-31   \n",
       "20                                           Star Wars   1977-05-25   \n",
       "180       Harry Potter and the Deathly Hallows: Part 2   2011-07-12   \n",
       "213                                      The Godfather   1972-03-14   \n",
       "248                                 Back to the Future   1985-07-03   \n",
       "368                                          Gladiator   2000-05-04   \n",
       "171                                      The Lion King   1994-06-24   \n",
       "\n",
       "     vote_count  vote_average  popularity  \\\n",
       "198       31920             8     114.484   \n",
       "34        28863             8     362.473   \n",
       "15        24858             8     440.334   \n",
       "64        24855             8     267.760   \n",
       "18        24558             8     425.856   \n",
       "166       24323             8     164.708   \n",
       "205       23379             8     123.611   \n",
       "272       21139             8     115.753   \n",
       "178       20892             8     135.962   \n",
       "20        19981             8     541.884   \n",
       "180       19960             8     135.770   \n",
       "213       19817             8     119.001   \n",
       "248       19279             8     122.515   \n",
       "368       17822             8       1.400   \n",
       "171       17679             8     131.557   \n",
       "\n",
       "                                                genres        wr  \n",
       "198  [{'id': 18, 'name': 'Drama'}, {'id': 28, 'name...  7.369470  \n",
       "34   [{'id': 12, 'name': 'Adventure'}, {'id': 28, '...  7.326155  \n",
       "15   [{'id': 28, 'name': 'Action'}, {'id': 878, 'na...  7.259510  \n",
       "64   [{'id': 12, 'name': 'Adventure'}, {'id': 878, ...  7.259455  \n",
       "18   [{'id': 80, 'name': 'Crime'}, {'id': 53, 'name...  7.253983  \n",
       "166  [{'id': 12, 'name': 'Adventure'}, {'id': 14, '...  7.249596  \n",
       "205  [{'id': 12, 'name': 'Adventure'}, {'id': 14, '...  7.231440  \n",
       "272  [{'id': 12, 'name': 'Adventure'}, {'id': 14, '...  7.184627  \n",
       "178  [{'id': 12, 'name': 'Adventure'}, {'id': 14, '...  7.179114  \n",
       "20   [{'id': 12, 'name': 'Adventure'}, {'id': 28, '...  7.158118  \n",
       "180  [{'id': 14, 'name': 'Fantasy'}, {'id': 12, 'na...  7.157621  \n",
       "213  [{'id': 18, 'name': 'Drama'}, {'id': 80, 'name...  7.154224  \n",
       "248  [{'id': 12, 'name': 'Adventure'}, {'id': 35, '...  7.141192  \n",
       "368  [{'id': 28, 'name': 'Action'}, {'id': 18, 'nam...  7.103794  \n",
       "171  [{'id': 10751, 'name': 'Family'}, {'id': 16, '...  7.099947  "
      ]
     },
     "execution_count": 58,
     "metadata": {},
     "output_type": "execute_result"
    }
   ],
   "source": [
    "qualified.head(15)"
   ]
  },
  {
   "cell_type": "code",
   "execution_count": 59,
   "metadata": {},
   "outputs": [],
   "source": [
    "def improved_recommendations(title, length):\n",
    "    idx = indices[title]\n",
    "    sim_scores = list(enumerate(cosine_sim[idx]))\n",
    "    sim_scores = sorted(sim_scores, key=lambda x: x[1], reverse=True)\n",
    "    sim_scores = sim_scores[1:length]\n",
    "    movie_indices = [i[0] for i in sim_scores]\n",
    "    \n",
    "    movies = data.iloc[movie_indices][['original_title', 'vote_count', 'vote_average', 'release_date']]\n",
    "    vote_counts = movies[movies['vote_count'].notnull()]['vote_count'].astype('int')\n",
    "    vote_averages = movies[movies['vote_average'].notnull()]['vote_average'].astype('int')\n",
    "    C = vote_averages.mean()\n",
    "    m = vote_counts.quantile(0.60)\n",
    "    qualified = movies[(movies['vote_count'] >= m) & (movies['vote_count'].notnull()) & \n",
    "                       (movies['vote_average'].notnull())]\n",
    "    qualified['vote_count'] = qualified['vote_count'].astype('int')\n",
    "    qualified['vote_average'] = qualified['vote_average'].astype('int')\n",
    "    qualified['wr'] = qualified.apply(weighted_rating, axis=1)\n",
    "    qualified = qualified.sort_values('wr', ascending=False).head(10)\n",
    "    return qualified"
   ]
  },
  {
   "cell_type": "code",
   "execution_count": 60,
   "metadata": {},
   "outputs": [
    {
     "name": "stdout",
     "output_type": "stream",
     "text": [
      "                 original_title  vote_count  vote_average release_date  \\\n",
      "34       Avengers: Infinity War       28863             8   2018-04-25   \n",
      "200  Terminator 2: Judgment Day       12361             8   1991-07-03   \n",
      "184                      Avatar       30828             7   2009-12-15   \n",
      "47       Spider-Man: Homecoming       21203             7   2017-07-05   \n",
      "117               Batman Begins       20360             7   2005-06-10   \n",
      "393                     Ant-Man       19261             7   2015-07-14   \n",
      "348                 I Am Legend       15263             7   2007-12-12   \n",
      "211                Men in Black       13341             7   1997-07-02   \n",
      "408  How to Train Your Dragon 2        9269             7   2014-06-05   \n",
      "712                    Sin City        7855             7   2005-04-01   \n",
      "\n",
      "           wr  \n",
      "34   7.326155  \n",
      "200  6.928988  \n",
      "184  6.691182  \n",
      "47   6.610498  \n",
      "117  6.601376  \n",
      "393  6.588823  \n",
      "348  6.535622  \n",
      "211  6.504821  \n",
      "408  6.423862  \n",
      "712  6.389183  \n"
     ]
    }
   ],
   "source": [
    "print(improved_recommendations('The Dark Knight Rises',100))"
   ]
  },
  {
   "cell_type": "code",
   "execution_count": 64,
   "metadata": {},
   "outputs": [
    {
     "data": {
      "text/plain": [
       "Index(['userId', 'movieId', 'rating'], dtype='object')"
      ]
     },
     "execution_count": 64,
     "metadata": {},
     "output_type": "execute_result"
    }
   ],
   "source": [
    "ratings.columns"
   ]
  },
  {
   "cell_type": "code",
   "execution_count": 66,
   "metadata": {},
   "outputs": [
    {
     "data": {
      "text/plain": [
       "Index(['belongs_to_collection', 'genres', 'origin_country',\n",
       "       'original_language', 'original_title', 'overview', 'popularity',\n",
       "       'production_companies', 'production_countries', 'spoken_languages',\n",
       "       'vote_average', 'id', 'tagline', 'vote_count', 'release_date', 'year'],\n",
       "      dtype='object')"
      ]
     },
     "execution_count": 66,
     "metadata": {},
     "output_type": "execute_result"
    }
   ],
   "source": [
    "data.columns"
   ]
  },
  {
   "cell_type": "code",
   "execution_count": 65,
   "metadata": {},
   "outputs": [
    {
     "data": {
      "text/html": [
       "<div>\n",
       "<style scoped>\n",
       "    .dataframe tbody tr th:only-of-type {\n",
       "        vertical-align: middle;\n",
       "    }\n",
       "\n",
       "    .dataframe tbody tr th {\n",
       "        vertical-align: top;\n",
       "    }\n",
       "\n",
       "    .dataframe thead th {\n",
       "        text-align: right;\n",
       "    }\n",
       "</style>\n",
       "<table border=\"1\" class=\"dataframe\">\n",
       "  <thead>\n",
       "    <tr style=\"text-align: right;\">\n",
       "      <th></th>\n",
       "      <th>userId</th>\n",
       "      <th>movieId</th>\n",
       "      <th>rating</th>\n",
       "    </tr>\n",
       "  </thead>\n",
       "  <tbody>\n",
       "    <tr>\n",
       "      <th>0</th>\n",
       "      <td>1</td>\n",
       "      <td>296</td>\n",
       "      <td>5.0</td>\n",
       "    </tr>\n",
       "    <tr>\n",
       "      <th>1</th>\n",
       "      <td>1</td>\n",
       "      <td>306</td>\n",
       "      <td>3.5</td>\n",
       "    </tr>\n",
       "    <tr>\n",
       "      <th>2</th>\n",
       "      <td>1</td>\n",
       "      <td>307</td>\n",
       "      <td>5.0</td>\n",
       "    </tr>\n",
       "    <tr>\n",
       "      <th>3</th>\n",
       "      <td>1</td>\n",
       "      <td>665</td>\n",
       "      <td>5.0</td>\n",
       "    </tr>\n",
       "    <tr>\n",
       "      <th>4</th>\n",
       "      <td>1</td>\n",
       "      <td>899</td>\n",
       "      <td>3.5</td>\n",
       "    </tr>\n",
       "    <tr>\n",
       "      <th>...</th>\n",
       "      <td>...</td>\n",
       "      <td>...</td>\n",
       "      <td>...</td>\n",
       "    </tr>\n",
       "    <tr>\n",
       "      <th>65</th>\n",
       "      <td>1</td>\n",
       "      <td>27193</td>\n",
       "      <td>3.0</td>\n",
       "    </tr>\n",
       "    <tr>\n",
       "      <th>66</th>\n",
       "      <td>1</td>\n",
       "      <td>27266</td>\n",
       "      <td>4.5</td>\n",
       "    </tr>\n",
       "    <tr>\n",
       "      <th>67</th>\n",
       "      <td>1</td>\n",
       "      <td>27721</td>\n",
       "      <td>3.0</td>\n",
       "    </tr>\n",
       "    <tr>\n",
       "      <th>68</th>\n",
       "      <td>1</td>\n",
       "      <td>31956</td>\n",
       "      <td>3.5</td>\n",
       "    </tr>\n",
       "    <tr>\n",
       "      <th>69</th>\n",
       "      <td>1</td>\n",
       "      <td>32591</td>\n",
       "      <td>5.0</td>\n",
       "    </tr>\n",
       "  </tbody>\n",
       "</table>\n",
       "<p>70 rows × 3 columns</p>\n",
       "</div>"
      ],
      "text/plain": [
       "    userId  movieId  rating\n",
       "0        1      296     5.0\n",
       "1        1      306     3.5\n",
       "2        1      307     5.0\n",
       "3        1      665     5.0\n",
       "4        1      899     3.5\n",
       "..     ...      ...     ...\n",
       "65       1    27193     3.0\n",
       "66       1    27266     4.5\n",
       "67       1    27721     3.0\n",
       "68       1    31956     3.5\n",
       "69       1    32591     5.0\n",
       "\n",
       "[70 rows x 3 columns]"
      ]
     },
     "execution_count": 65,
     "metadata": {},
     "output_type": "execute_result"
    }
   ],
   "source": [
    "ratings[ratings['userId']==1]"
   ]
  },
  {
   "cell_type": "code",
   "execution_count": 69,
   "metadata": {},
   "outputs": [],
   "source": [
    "def create_user_profile(userId, cosine_sim, user_ratings_matrix):\n",
    "    user_ratings = user_ratings_matrix.loc[userId].dropna()\n",
    "    profile_vector = np.zeros_like(cosine_sim[0])\n",
    "    for movieId, rating in user_ratings.items():\n",
    "        # Check if the movie exists in the data DataFrame\n",
    "        if movieId in data['id'].values:\n",
    "            # Get the index of the movie in the cosine similarity matrix\n",
    "            idx = data[data['id'] == movieId].index[0]\n",
    "            # Update the profile vector by adding the weighted similarity scores\n",
    "            profile_vector += cosine_sim[idx] * rating\n",
    "    return profile_vector\n",
    "\n",
    "# Step 5: Normalize the weighted sum\n",
    "def normalize_vector(vector):\n",
    "    norm = np.linalg.norm(vector)\n",
    "    if norm == 0:\n",
    "        return vector\n",
    "    return vector / norm\n",
    "\n",
    "# Example usage\n",
    "userId = 1  # Example user ID\n",
    "user_profile = create_user_profile(userId, cosine_sim, ratings)\n",
    "normalized_profile = normalize_vector(user_profile)"
   ]
  },
  {
   "cell_type": "code",
   "execution_count": 70,
   "metadata": {},
   "outputs": [
    {
     "name": "stdout",
     "output_type": "stream",
     "text": [
      "[0. 0. 0. ... 0. 0. 0.]\n"
     ]
    }
   ],
   "source": [
    "print(normalized_profile)"
   ]
  },
  {
   "cell_type": "markdown",
   "metadata": {},
   "source": [
    "### Stuff to work on if have time"
   ]
  },
  {
   "cell_type": "code",
   "execution_count": null,
   "metadata": {},
   "outputs": [],
   "source": [
    "import numpy as np\n",
    "import pandas as pd\n",
    "from scipy.sparse import csr_matrix, save_npz, load_npz\n",
    "from sklearn.metrics.pairwise import linear_kernel\n",
    "import pickle\n",
    "\n",
    "# Load the saved vectorizer and cosine similarity matrix\n",
    "with open('tfidf_vectorizer.pkl', 'rb') as f:\n",
    "    tfidf = pickle.load(f)\n",
    "\n",
    "cosine_sim_sparse = load_npz('cosine_sim.npz')\n",
    "cosine_sim = cosine_sim_sparse.toarray()\n",
    "\n",
    "# Function to add a new movie and update cosine similarity matrix\n",
    "def update_cosine_sim(new_movie_id, new_movie_description, movies_df, cosine_sim, tfidf):\n",
    "    # Compute the TF-IDF vector for the new movie using the existing vectorizer\n",
    "    new_tfidf_vector = tfidf.transform([new_movie_description])\n",
    "    \n",
    "    # Compute cosine similarity between the new movie and all existing movies\n",
    "    new_cosine_sim = linear_kernel(new_tfidf_vector, tfidf.transform(movies_df['description'])).flatten()\n",
    "    \n",
    "    # Expand the cosine similarity matrix to include the new movie\n",
    "    num_movies = cosine_sim.shape[0]\n",
    "    new_cosine_sim_matrix = np.zeros((num_movies + 1, num_movies + 1))\n",
    "    new_cosine_sim_matrix[:num_movies, :num_movies] = cosine_sim\n",
    "    new_cosine_sim_matrix[num_movies, :num_movies] = new_cosine_sim\n",
    "    new_cosine_sim_matrix[:num_movies, num_movies] = new_cosine_sim\n",
    "    new_cosine_sim_matrix[num_movies, num_movies] = 1  # Similarity with itself is 1\n",
    "    \n",
    "    # Add the new movie to the movies DataFrame\n",
    "    new_movie = pd.DataFrame({'movieId': [new_movie_id], 'description': [new_movie_description]})\n",
    "    updated_movies_df = pd.concat([movies_df, new_movie], ignore_index=True)\n",
    "    \n",
    "    return updated_movies_df, new_cosine_sim_matrix\n",
    "\n",
    "# Example usage\n",
    "new_movie_id = 123456  # New movie ID\n",
    "new_movie_description = \"An epic adventure of a lifetime.\"\n",
    "updated_movies_df, updated_cosine_sim = update_cosine_sim(new_movie_id, new_movie_description, movies_df, cosine_sim, tfidf)\n",
    "\n",
    "# Save the updated cosine similarity matrix\n",
    "updated_cosine_sim_sparse = csr_matrix(updated_cosine_sim)\n",
    "save_npz('updated_cosine_sim.npz', updated_cosine_sim_sparse)\n"
   ]
  },
  {
   "cell_type": "code",
   "execution_count": null,
   "metadata": {},
   "outputs": [],
   "source": [
    "import numpy as np\n",
    "import pandas as pd\n",
    "from sklearn.feature_extraction.text import TfidfVectorizer\n",
    "from sklearn.preprocessing import normalize\n",
    "from scipy.sparse import csr_matrix, save_npz, load_npz\n",
    "import pickle\n",
    "\n",
    "# Assume we have the following data frames already loaded\n",
    "movies_df = pd.read_csv('movies.csv')  # Columns: ['movieId', 'title', 'description']\n",
    "ratings_df = pd.read_csv('ratings.csv')  # Columns: ['userId', 'movieId', 'rating']\n",
    "\n",
    "# Load the saved vectorizer and cosine similarity matrix\n",
    "with open('tfidf_vectorizer.pkl', 'rb') as f:\n",
    "    tfidf = pickle.load(f)\n",
    "\n",
    "cosine_sim_sparse = load_npz('cosine_sim.npz')\n",
    "cosine_sim = cosine_sim_sparse.toarray()\n",
    "\n",
    "# Assume tfidf_matrix is already computed and available\n",
    "tfidf_matrix = tfidf.transform(movies_df['description'])\n",
    "\n",
    "# Function to create a popular movies profile\n",
    "def create_popular_movies_profile(ratings_df, movies_df, tfidf_matrix, top_n=10):\n",
    "    # Calculate average ratings for each movie\n",
    "    avg_ratings = ratings_df.groupby('movieId')['rating'].mean()\n",
    "    \n",
    "    # Get the top N movies by average rating\n",
    "    top_movies = avg_ratings.nlargest(top_n).index\n",
    "    \n",
    "    # Initialize the profile vector\n",
    "    profile_vector = np.zeros(tfidf_matrix.shape[1])\n",
    "    \n",
    "    # Sum the TF-IDF vectors of the top movies\n",
    "    for movieId in top_movies:\n",
    "        movie_idx = movies_df[movies_df['movieId'] == movieId].index[0]\n",
    "        profile_vector += tfidf_matrix[movie_idx]\n",
    "    \n",
    "    # Normalize the profile vector\n",
    "    profile_vector = normalize(profile_vector.reshape(1, -1))\n",
    "    \n",
    "    return profile_vector\n",
    "\n",
    "# Create a generic user profile based on popular movies\n",
    "generic_user_profile = create_popular_movies_profile(ratings_df, movies_df, tfidf_matrix)\n",
    "\n",
    "print(generic_user_profile)\n"
   ]
  }
 ],
 "metadata": {
  "kernelspec": {
   "display_name": "Python 3",
   "language": "python",
   "name": "python3"
  },
  "language_info": {
   "codemirror_mode": {
    "name": "ipython",
    "version": 3
   },
   "file_extension": ".py",
   "mimetype": "text/x-python",
   "name": "python",
   "nbconvert_exporter": "python",
   "pygments_lexer": "ipython3",
   "version": "3.11.5"
  }
 },
 "nbformat": 4,
 "nbformat_minor": 2
}
