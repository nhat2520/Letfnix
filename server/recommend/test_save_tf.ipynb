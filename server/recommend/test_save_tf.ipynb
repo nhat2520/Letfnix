{
 "cells": [
  {
   "cell_type": "code",
   "execution_count": 1,
   "metadata": {},
   "outputs": [],
   "source": [
    "import pandas as pd"
   ]
  },
  {
   "cell_type": "code",
   "execution_count": 4,
   "metadata": {},
   "outputs": [],
   "source": [
    "data = pd.read_csv('data.csv')"
   ]
  },
  {
   "cell_type": "code",
   "execution_count": 5,
   "metadata": {},
   "outputs": [
    {
     "name": "stdout",
     "output_type": "stream",
     "text": [
      "<class 'pandas.core.frame.DataFrame'>\n",
      "RangeIndex: 10001 entries, 0 to 10000\n",
      "Data columns (total 27 columns):\n",
      " #   Column                 Non-Null Count  Dtype  \n",
      "---  ------                 --------------  -----  \n",
      " 0   adult                  10001 non-null  object \n",
      " 1   backdrop_path          10001 non-null  object \n",
      " 2   belongs_to_collection  2737 non-null   object \n",
      " 3   budget                 10001 non-null  object \n",
      " 4   genres                 10001 non-null  object \n",
      " 5   homepage               4122 non-null   object \n",
      " 6   id                     10001 non-null  int64  \n",
      " 7   imdb_id                9830 non-null   object \n",
      " 8   origin_country         10001 non-null  object \n",
      " 9   original_language      10001 non-null  object \n",
      " 10  original_title         10000 non-null  object \n",
      " 11  overview               9953 non-null   object \n",
      " 12  popularity             10000 non-null  object \n",
      " 13  poster_path            10001 non-null  object \n",
      " 14  production_companies   10000 non-null  object \n",
      " 15  production_countries   9999 non-null   object \n",
      " 16  release_date           9979 non-null   object \n",
      " 17  revenue                9999 non-null   float64\n",
      " 18  runtime                9999 non-null   float64\n",
      " 19  spoken_languages       9999 non-null   object \n",
      " 20  status                 9999 non-null   object \n",
      " 21  tagline                7875 non-null   object \n",
      " 22  title                  9999 non-null   object \n",
      " 23  video                  9999 non-null   object \n",
      " 24  vote_average           9999 non-null   float64\n",
      " 25  vote_count             9999 non-null   float64\n",
      " 26  url                    9190 non-null   object \n",
      "dtypes: float64(4), int64(1), object(22)\n",
      "memory usage: 2.1+ MB\n"
     ]
    }
   ],
   "source": [
    "data.info()"
   ]
  },
  {
   "cell_type": "code",
   "execution_count": 6,
   "metadata": {},
   "outputs": [
    {
     "name": "stdout",
     "output_type": "stream",
     "text": [
      "Index(['adult', 'backdrop_path', 'belongs_to_collection', 'budget', 'genres',\n",
      "       'homepage', 'id', 'imdb_id', 'origin_country', 'original_language',\n",
      "       'original_title', 'overview', 'popularity', 'poster_path',\n",
      "       'production_companies', 'production_countries', 'release_date',\n",
      "       'revenue', 'runtime', 'spoken_languages', 'status', 'tagline', 'title',\n",
      "       'video', 'vote_average', 'vote_count', 'url'],\n",
      "      dtype='object')\n"
     ]
    }
   ],
   "source": [
    "print(data.columns)"
   ]
  },
  {
   "cell_type": "code",
   "execution_count": 8,
   "metadata": {},
   "outputs": [],
   "source": [
    "columns_to_drop =['adult','backdrop_path']"
   ]
  },
  {
   "cell_type": "code",
   "execution_count": 9,
   "metadata": {},
   "outputs": [],
   "source": [
    "data['belongs_to_collection'].to_csv('test.csv')"
   ]
  }
 ],
 "metadata": {
  "kernelspec": {
   "display_name": "Python 3",
   "language": "python",
   "name": "python3"
  },
  "language_info": {
   "codemirror_mode": {
    "name": "ipython",
    "version": 3
   },
   "file_extension": ".py",
   "mimetype": "text/x-python",
   "name": "python",
   "nbconvert_exporter": "python",
   "pygments_lexer": "ipython3",
   "version": "3.11.5"
  }
 },
 "nbformat": 4,
 "nbformat_minor": 2
}
