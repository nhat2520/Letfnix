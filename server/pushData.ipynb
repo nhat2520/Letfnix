{
 "cells": [
  {
   "cell_type": "code",
   "execution_count": 4,
   "metadata": {},
   "outputs": [],
   "source": [
    "import pandas as pd\n",
    "import ast\n"
   ]
  },
  {
   "cell_type": "code",
   "execution_count": 5,
   "metadata": {},
   "outputs": [],
   "source": [
    "df = pd.read_csv('data.csv')"
   ]
  },
  {
   "cell_type": "code",
   "execution_count": 7,
   "metadata": {},
   "outputs": [],
   "source": [
    "def replace_string(s):\n",
    "    return s.replace('watch?v=', 'embed/')"
   ]
  },
  {
   "cell_type": "code",
   "execution_count": 8,
   "metadata": {},
   "outputs": [],
   "source": [
    "df['url'] = df['url'].apply(replace_string)"
   ]
  },
  {
   "cell_type": "code",
   "execution_count": 9,
   "metadata": {},
   "outputs": [
    {
     "data": {
      "text/plain": [
       "0       https://www.youtube.com/embed/dNYgq3BfnsY\n",
       "1       https://www.youtube.com/embed/ARqGaZNg08Y\n",
       "2       https://www.youtube.com/embed/TYljxL4WeRo\n",
       "3       https://www.youtube.com/embed/DMNQ5HWQ1aU\n",
       "4       https://www.youtube.com/embed/DpSaTrW4leg\n",
       "                          ...                    \n",
       "1513    https://www.youtube.com/embed/eWI_Jsw9qUs\n",
       "1514    https://www.youtube.com/embed/XeUtb5L9iNE\n",
       "1515    https://www.youtube.com/embed/m8lk5PWFUKQ\n",
       "1516    https://www.youtube.com/embed/K8ZvVDiYc88\n",
       "1517    https://www.youtube.com/embed/MdwO8XAPJtc\n",
       "Name: url, Length: 1518, dtype: object"
      ]
     },
     "execution_count": 9,
     "metadata": {},
     "output_type": "execute_result"
    }
   ],
   "source": [
    "df['url']"
   ]
  },
  {
   "cell_type": "code",
   "execution_count": 10,
   "metadata": {},
   "outputs": [],
   "source": [
    "df.to_csv('data.csv', index=False)"
   ]
  }
 ],
 "metadata": {
  "kernelspec": {
   "display_name": "Python 3",
   "language": "python",
   "name": "python3"
  },
  "language_info": {
   "codemirror_mode": {
    "name": "ipython",
    "version": 3
   },
   "file_extension": ".py",
   "mimetype": "text/x-python",
   "name": "python",
   "nbconvert_exporter": "python",
   "pygments_lexer": "ipython3",
   "version": "3.12.2"
  }
 },
 "nbformat": 4,
 "nbformat_minor": 2
}
